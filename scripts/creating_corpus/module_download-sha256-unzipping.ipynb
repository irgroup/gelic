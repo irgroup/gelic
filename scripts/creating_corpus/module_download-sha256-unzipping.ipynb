{
 "cells": [
  {
   "cell_type": "code",
   "execution_count": 1,
   "metadata": {},
   "outputs": [],
   "source": [
    "# importing all needed libs\n",
    "import bs4, json, os, requests, hashlib, sys\n",
    "from pathlib import Path\n",
    "\n",
    "# declare wanted target directory\n",
    "dir_path = \"marcxmls/zips\"\n",
    "\n",
    "# declare wanted file format (\"has to contain\")\n",
    "wanted_format = '.mrc.xml.gz'\n",
    "\n",
    "url_to_files = 'https://data.dnb.de/DNB/'"
   ]
  },
  {
   "cell_type": "code",
   "execution_count": null,
   "metadata": {},
   "outputs": [],
   "source": []
  },
  {
   "cell_type": "code",
   "execution_count": 2,
   "metadata": {},
   "outputs": [],
   "source": [
    "def create_checksum_dict():\n",
    "    \n",
    "    checksum_dict = {}\n",
    "    downloadresult = download(url_to_files, file_to_download)\n",
    "    \n",
    "    #if downloadresult == False:\n",
    "     #   sys.exit(\"could not create checksum dictionary\")\n",
    "    #else:\n",
    "    \n",
    "    with open(dir_path + \"/001_Pruefsumme_Checksum.txt\", 'r') as infile:\n",
    "        # skip first line\n",
    "        next(infile)\n",
    "        for line in infile:\n",
    "            # condense multiple whitespaces to one\n",
    "            condensed_whitespaces = ' '.join(line.split())\n",
    "            splitted_line = condensed_whitespaces.split(' ')\n",
    "            # add file and checksum als key and value to chesum_dict\n",
    "            checksum_dict[splitted_line[0]] = splitted_line[1]\n",
    "    \n",
    "    print('created checksum_dict')\n",
    "    return checksum_dict"
   ]
  },
  {
   "cell_type": "code",
   "execution_count": 3,
   "metadata": {},
   "outputs": [],
   "source": [
    "def checkhash(filepath):\n",
    "    \n",
    "    if bool(checksum_dict) == True:\n",
    "        sha256_hash = hashlib.sha256()\n",
    "        with open(filepath,\"rb\") as f:\n",
    "            # Read and update hash string value in blocks of 4K\n",
    "            for byte_block in iter(lambda: f.read(4096),b\"\"):\n",
    "                sha256_hash.update(byte_block)\n",
    "            calculated_hash = sha256_hash.hexdigest()\n",
    "        # get the hash out of the dictionary, can use file_to_download as key\n",
    "        # TODO: except if key doesn't exist\n",
    "        dnb_hash = checksum_dict.get(file_to_download)\n",
    "        if calculated_hash == dnb_hash:\n",
    "            return True\n",
    "        else:\n",
    "            return False\n",
    "    else:\n",
    "        sys.exit(\"create_checksum_dict before trying to download or checkhash a file\")         "
   ]
  },
  {
   "cell_type": "code",
   "execution_count": 4,
   "metadata": {},
   "outputs": [],
   "source": [
    "def download(url, file):\n",
    "    \n",
    "    filepath = Path(dir_path + \"/\" + file)\n",
    "\n",
    "    # check if file exists already\n",
    "    try:\n",
    "        filepath.resolve(strict=True)\n",
    "        \n",
    "    except FileNotFoundError:\n",
    "        \n",
    "        url_to_download = \"https://data.dnb.de/DNB/\" + file\n",
    "        print(\"trying to download \" + file + \" ...\")\n",
    "        resource = requests.get(url_to_download)\n",
    "\n",
    "        # check if download was successful\n",
    "        if resource.status_code == 404:\n",
    "            \n",
    "            sys.exit(file + \" is not available for download\")\n",
    "            \n",
    "        else:\n",
    "            # write downloaded resource to file \n",
    "            open(filepath, 'wb').write(resource.content)\n",
    "            \n",
    "            # check if file exists again\n",
    "            try:\n",
    "                filepath.resolve(strict=True)\n",
    "            except FileNotFoundError:\n",
    "                sys.exit(\"could not download \" + file)\n",
    "            else:\n",
    "                print(\"downloaded \" + file)\n",
    "                # check if file itself is a checksum-file otherwise check the hash of the downloaded file\n",
    "                if file.__contains__('Checksum') == True:\n",
    "                    return True\n",
    "                else:\n",
    "                    result_of_hashcheck = checkhash(filepath)\n",
    "                    print(\"checked hash of downloaded file: \" + str(result_of_hashcheck))\n",
    "                    return result_of_hashcheck\n",
    "    else:\n",
    "        \n",
    "        print(file + \" already exists\")\n",
    "        \n",
    "        # check if file itself is a checksum-file otherwise check the hash of the file\n",
    "        if file.__contains__('Checksum') == True:    \n",
    "            return True\n",
    "        else:\n",
    "            result_of_hashcheck = checkhash(filepath)\n",
    "            print(\"checked hash of file: \" + str(result_of_hashcheck))\n",
    "            return result_of_hashcheck\n",
    "    "
   ]
  },
  {
   "cell_type": "code",
   "execution_count": null,
   "metadata": {},
   "outputs": [],
   "source": []
  },
  {
   "cell_type": "code",
   "execution_count": 6,
   "metadata": {},
   "outputs": [
    {
     "name": "stdout",
     "output_type": "stream",
     "text": [
      "marcxmls/zips already exists\n",
      "001_Pruefsumme_Checksum.txt already exists\n",
      "created checksum_dict\n",
      "dnb_all_dnbmarc_20200213-1.mrc.xml.gz already exists\n",
      "checked hash of file: True\n",
      "dnb_all_dnbmarc_20200213-2.mrc.xml.gz already exists\n",
      "checked hash of file: True\n",
      "dnb_all_dnbmarc_20200213-3.mrc.xml.gz already exists\n",
      "checked hash of file: True\n",
      "dnb_all_dnbmarc_20200213-4.mrc.xml.gz already exists\n",
      "checked hash of file: True\n"
     ]
    }
   ],
   "source": [
    "# create target directory if it doesn't exist\n",
    "try:\n",
    "    os.makedirs(dir_path)\n",
    "    print(\"created \" , dir_path)\n",
    "except FileExistsError:\n",
    "    print(dir_path + \" already exists\")\n",
    "\n",
    "# download the files\n",
    "dnb_data_resource = requests.get(url_to_files)\n",
    "dnb_soup = bs4.BeautifulSoup(dnb_data_resource.content)\n",
    "\n",
    "for x in dnb_soup.select('pre a'):\n",
    "    \n",
    "    file_to_download = x.attrs.get('href')\n",
    "    \n",
    "    if file_to_download.__contains__('Checksum') == True:\n",
    "        checksum_dict = create_checksum_dict()\n",
    "    elif file_to_download.__contains__(wanted_format) == True:\n",
    "        download(url_to_files, file_to_download)"
   ]
  },
  {
   "cell_type": "code",
   "execution_count": null,
   "metadata": {},
   "outputs": [],
   "source": []
  },
  {
   "cell_type": "code",
   "execution_count": null,
   "metadata": {},
   "outputs": [],
   "source": []
  },
  {
   "cell_type": "code",
   "execution_count": null,
   "metadata": {},
   "outputs": [],
   "source": []
  },
  {
   "cell_type": "code",
   "execution_count": null,
   "metadata": {},
   "outputs": [],
   "source": []
  },
  {
   "cell_type": "code",
   "execution_count": null,
   "metadata": {},
   "outputs": [],
   "source": []
  },
  {
   "cell_type": "code",
   "execution_count": null,
   "metadata": {},
   "outputs": [],
   "source": []
  },
  {
   "cell_type": "code",
   "execution_count": null,
   "metadata": {},
   "outputs": [],
   "source": []
  },
  {
   "cell_type": "code",
   "execution_count": null,
   "metadata": {},
   "outputs": [],
   "source": []
  },
  {
   "cell_type": "code",
   "execution_count": null,
   "metadata": {},
   "outputs": [],
   "source": []
  },
  {
   "cell_type": "code",
   "execution_count": null,
   "metadata": {},
   "outputs": [],
   "source": []
  },
  {
   "cell_type": "code",
   "execution_count": null,
   "metadata": {},
   "outputs": [],
   "source": []
  },
  {
   "cell_type": "code",
   "execution_count": null,
   "metadata": {},
   "outputs": [],
   "source": []
  },
  {
   "cell_type": "code",
   "execution_count": null,
   "metadata": {},
   "outputs": [],
   "source": []
  },
  {
   "cell_type": "code",
   "execution_count": null,
   "metadata": {},
   "outputs": [],
   "source": []
  },
  {
   "cell_type": "code",
   "execution_count": null,
   "metadata": {},
   "outputs": [],
   "source": []
  },
  {
   "cell_type": "code",
   "execution_count": null,
   "metadata": {},
   "outputs": [],
   "source": []
  },
  {
   "cell_type": "code",
   "execution_count": null,
   "metadata": {},
   "outputs": [],
   "source": []
  },
  {
   "cell_type": "code",
   "execution_count": null,
   "metadata": {},
   "outputs": [],
   "source": []
  }
 ],
 "metadata": {
  "kernelspec": {
   "display_name": "Python 3",
   "language": "python",
   "name": "python3"
  },
  "language_info": {
   "codemirror_mode": {
    "name": "ipython",
    "version": 3
   },
   "file_extension": ".py",
   "mimetype": "text/x-python",
   "name": "python",
   "nbconvert_exporter": "python",
   "pygments_lexer": "ipython3",
   "version": "3.7.6"
  }
 },
 "nbformat": 4,
 "nbformat_minor": 4
}
